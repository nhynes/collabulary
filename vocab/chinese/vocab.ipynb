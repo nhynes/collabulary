{
 "cells": [
  {
   "cell_type": "code",
   "execution_count": 196,
   "id": "sporting-purse",
   "metadata": {},
   "outputs": [],
   "source": [
    "with open('LWC-words/word_counts.txt') as f_lwc:\n",
    "    lwc_word_counts = {}\n",
    "    for i, line in enumerate(f_lwc):\n",
    "        if i == 700:\n",
    "            break\n",
    "        (w, c) = line.rstrip().split(' ')\n",
    "        lwc_word_counts[w] = int(c)\n",
    "total = sum(lwc_word_counts.values())\n",
    "lwc_rel_freqs = {w: c / total for (w, c) in lwc_word_counts.items()}"
   ]
  },
  {
   "cell_type": "code",
   "execution_count": 197,
   "id": "hundred-cleaners",
   "metadata": {},
   "outputs": [],
   "source": [
    "with open('SUBTLEX_CH_131210_CE.utf8') as f_subtlex:\n",
    "    subtlex_word_counts = {}\n",
    "    translations = {}\n",
    "    f_subtlex.readline()\n",
    "    for i, line in enumerate(f_subtlex):\n",
    "        if i == 700:\n",
    "            break\n",
    "        data = line.rstrip().split('\\t')\n",
    "        w = data[0]\n",
    "        c = int(data[4])\n",
    "        translations[w] = data[-1].replace('\"', '')\n",
    "        subtlex_word_counts[w] = int(c)\n",
    "total = sum(subtlex_word_counts.values())\n",
    "subtlex_rel_freqs = {w: c / total for (w, c) in subtlex_word_counts.items()}"
   ]
  },
  {
   "cell_type": "code",
   "execution_count": 198,
   "id": "generic-moment",
   "metadata": {},
   "outputs": [
    {
     "name": "stdout",
     "output_type": "stream",
     "text": [
      "424\n"
     ]
    }
   ],
   "source": [
    "admissible_words = set(lwc_rel_freqs) & set(subtlex_rel_freqs)\n",
    "print(len(admissible_words))"
   ]
  },
  {
   "cell_type": "code",
   "execution_count": 202,
   "id": "annual-manner",
   "metadata": {},
   "outputs": [],
   "source": [
    "combined_rel_freqs = {}\n",
    "for w in admissible_words:\n",
    "    combined_rel_freqs[w] = (lwc_rel_freqs[w] + subtlex_rel_freqs[w]) / 2\n",
    "\n",
    "sorted_top_words = [w for (w, c) in sorted(combined_rel_freqs.items(), key=lambda wf: -wf[1])]\n",
    "top_words = set(sorted_top_words)"
   ]
  },
  {
   "cell_type": "code",
   "execution_count": 201,
   "id": "major-fence",
   "metadata": {},
   "outputs": [],
   "source": [
    "with open('pinyin.txt') as f_pinyin:\n",
    "    pinyin = f_pinyin.read().rstrip().split('\\n')\n",
    "assert len(pinyin) == len(sorted_top_words)\n",
    "with open('vocab.tsv', 'w') as f_vocab:\n",
    "    for (word, pinyin) in zip(sorted_top_words, pinyin):\n",
    "        translation = translations[word]\n",
    "        print(f'{word}\\t{pinyin}\\t{translation}', file=f_vocab)"
   ]
  }
 ],
 "metadata": {
  "kernelspec": {
   "display_name": "Python 3",
   "language": "python",
   "name": "python3"
  },
  "language_info": {
   "codemirror_mode": {
    "name": "ipython",
    "version": 3
   },
   "file_extension": ".py",
   "mimetype": "text/x-python",
   "name": "python",
   "nbconvert_exporter": "python",
   "pygments_lexer": "ipython3",
   "version": "3.9.4"
  }
 },
 "nbformat": 4,
 "nbformat_minor": 5
}
